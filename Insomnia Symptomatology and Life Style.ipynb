{
 "cells": [
  {
   "cell_type": "markdown",
   "id": "c01ea6f7",
   "metadata": {},
   "source": [
    "# Sleep health and lifestyle - Insomnia Symptomatology in Adolescents\n",
    "\n",
    "Data obtained from [here](https://www.kaggle.com/datasets/uom190346a/sleep-health-and-lifestyle-dataset/code?datasetId=3321433&sortBy=voteCount)"
   ]
  },
  {
   "cell_type": "code",
   "execution_count": null,
   "id": "da87626a",
   "metadata": {},
   "outputs": [],
   "source": [
    "# Importing libraries\n",
    "import pandas as pd \n",
    "import numpy as np \n",
    "import matplotlib.pyplot as plt \n",
    "import seaborn as sns\n",
    "import plotly.express as px\n",
    "%matplotlib inline"
   ]
  },
  {
   "cell_type": "code",
   "execution_count": null,
   "id": "c888d57f",
   "metadata": {},
   "outputs": [],
   "source": [
    "# Setting display options for better visibility\n",
    "pd.set_option('display.max_columns', None)\n",
    "pd.set_option('max_colwidth', 400)"
   ]
  },
  {
   "cell_type": "markdown",
   "id": "2df92398",
   "metadata": {},
   "source": [
    "# Exploratory Data Analysis - EDA"
   ]
  },
  {
   "cell_type": "code",
   "execution_count": null,
   "id": "a4584ddb",
   "metadata": {},
   "outputs": [],
   "source": [
    "# Loading the dataset\n",
    "df = pd.read_csv(\"Sleep_health_and_lifestyle_dataset.csv\")"
   ]
  },
  {
   "cell_type": "code",
   "execution_count": null,
   "id": "229b81c3",
   "metadata": {},
   "outputs": [],
   "source": [
    "# Displaying basic information about the dataset\n",
    "df.info()"
   ]
  },
  {
   "cell_type": "code",
   "execution_count": null,
   "id": "90c2a512",
   "metadata": {},
   "outputs": [],
   "source": [
    "# Handling missing values in 'Sleep Disorder' column\n",
    "df['Sleep Disorder'] = df['Sleep Disorder'].fillna('None')"
   ]
  },
  {
   "cell_type": "code",
   "execution_count": null,
   "id": "82130856",
   "metadata": {},
   "outputs": [],
   "source": [
    "# Exploring duplicate records\n",
    "duplicate_count = df.duplicated().sum()\n",
    "df = df.drop_duplicates()"
   ]
  },
  {
   "cell_type": "markdown",
   "id": "4ad421e5",
   "metadata": {},
   "source": [
    "## Descriptive statistics of the dataset"
   ]
  },
  {
   "cell_type": "code",
   "execution_count": null,
   "id": "13c4b7c7",
   "metadata": {},
   "outputs": [],
   "source": [
    "# Descriptive statistics of the dataset\n",
    "df.describe()"
   ]
  },
  {
   "cell_type": "code",
   "execution_count": null,
   "id": "e26c27fd",
   "metadata": {},
   "outputs": [],
   "source": [
    "# Exploring unique values in different columns\n",
    "print(\"Unique values in 'Gender':\", df['Gender'].unique())\n",
    "print(\"Unique values in 'Occupation':\", df['Occupation'].unique())\n",
    "print(\"Unique values in 'BMI Category':\", df['BMI Category'].unique())\n",
    "print(\"Unique values in 'Blood Pressure':\", df['Blood Pressure'].unique())\n",
    "print(\"Unique values in 'Heart Rate':\", df['Heart Rate'].unique())"
   ]
  },
  {
   "cell_type": "code",
   "execution_count": null,
   "id": "1ec8fe9e",
   "metadata": {},
   "outputs": [],
   "source": [
    "# Data counts for categorical columns\n",
    "gender_count = df['Gender'].value_counts().reset_index()\n",
    "age_count = df['Age'].value_counts().reset_index()\n",
    "occupation_count = df['Occupation'].value_counts().reset_index()\n",
    "physical_activity_level_count = df['Physical Activity Level'].value_counts().reset_index()\n",
    "quality_of_sleep_count = df['Quality of Sleep'].value_counts().reset_index()\n",
    "sleep_duration_count = df['Sleep Duration'].value_counts().reset_index()\n",
    "stress_level_count = df['Stress Level'].value_counts().reset_index()\n",
    "bmi_category_count = df['BMI Category'].value_counts().reset_index()\n",
    "blood_pressure_count = df['Blood Pressure'].value_counts().reset_index()\n",
    "heart_rate_count = df['Heart Rate'].value_counts().reset_index()\n",
    "daily_steps_count5 = df['Daily Steps'].value_counts().reset_index().sort_values(by='count', ascending=False).head(5)\n",
    "sleep_disorder_count = df['Sleep Disorder'].value_counts().reset_index()"
   ]
  },
  {
   "cell_type": "markdown",
   "id": "2d5525a6",
   "metadata": {},
   "source": [
    "## Data Visualization"
   ]
  },
  {
   "cell_type": "code",
   "execution_count": null,
   "id": "4aa29d12",
   "metadata": {},
   "outputs": [],
   "source": [
    "# Pie chart for gender distribution\n",
    "fig = px.pie(gender_count, values='count', names='Gender', title='Gender Distribution')\n",
    "fig.show()"
   ]
  },
  {
   "cell_type": "code",
   "execution_count": null,
   "id": "8a8bde39",
   "metadata": {},
   "outputs": [],
   "source": [
    "# Bar chart for age distribution\n",
    "fig = px.bar(age_count, x='Age', y='count', title='Age Distribution')\n",
    "fig.show()"
   ]
  },
  {
   "cell_type": "code",
   "execution_count": null,
   "id": "8d2ca88f",
   "metadata": {},
   "outputs": [],
   "source": [
    "# Bar chart for physical activity level distribution\n",
    "fig = px.bar(physical_activity_level_count, x='Physical Activity Level', y='count', title='Physical Activity Level Distribution')\n",
    "fig.show()"
   ]
  },
  {
   "cell_type": "code",
   "execution_count": null,
   "id": "95e47faa",
   "metadata": {},
   "outputs": [],
   "source": [
    "# Bar chart for quality of sleep distribution\n",
    "fig = px.bar(quality_of_sleep_count, x='Quality of Sleep', y='count', title='Quality of Sleep Distribution')\n",
    "fig.show()"
   ]
  },
  {
   "cell_type": "code",
   "execution_count": null,
   "id": "f7dcaf41",
   "metadata": {},
   "outputs": [],
   "source": [
    "# Bar chart for sleep duration distribution\n",
    "fig = px.bar(sleep_duration_count, x='Sleep Duration', y='count', title='Sleep Duration Distribution')\n",
    "fig.show()"
   ]
  },
  {
   "cell_type": "code",
   "execution_count": null,
   "id": "23fd119a",
   "metadata": {},
   "outputs": [],
   "source": [
    "# Bar chart for occupation distribution\n",
    "fig = px.bar(occupation_count, x='Occupation', y='count', title='Occupation Distribution')\n",
    "fig.show()"
   ]
  },
  {
   "cell_type": "code",
   "execution_count": null,
   "id": "fc8e4ef0",
   "metadata": {},
   "outputs": [],
   "source": [
    "# Pie chart for stress level distribution\n",
    "fig = px.pie(stress_level_count, values='count', names='Stress Level', title='Stress Level Distribution')\n",
    "fig.show()"
   ]
  },
  {
   "cell_type": "code",
   "execution_count": null,
   "id": "05536944",
   "metadata": {},
   "outputs": [],
   "source": [
    "# Stacked bar chart for stress level and occupation\n",
    "sns.barplot(data=position_stress, x='Occupation', y='count', hue='Stress Level', alpha=0.8, width=0.8) \n",
    "plt.title('Stress Level Distribution in Each Occupation')\n",
    "plt.xlabel('Occupation')\n",
    "plt.ylabel('Count')\n",
    "plt.xticks(rotation=90)\n",
    "plt.legend(loc='upper left', bbox_to_anchor=(1, 1))"
   ]
  },
  {
   "cell_type": "code",
   "execution_count": null,
   "id": "8a177808",
   "metadata": {},
   "outputs": [],
   "source": [
    "# Pie chart for BMI category distribution\n",
    "fig = px.pie(bmi_category_count, values='count', names='BMI Category', title='BMI Category Distribution')\n",
    "fig.show()"
   ]
  },
  {
   "cell_type": "code",
   "execution_count": null,
   "id": "3c97b143",
   "metadata": {},
   "outputs": [],
   "source": [
    "# Bar chart for blood pressure distribution\n",
    "fig = px.bar(blood_pressure_count, x=\"Blood Pressure\", y=\"count\", title=\"Blood Pressure Distribution\")\n",
    "fig.show()"
   ]
  },
  {
   "cell_type": "code",
   "execution_count": null,
   "id": "62d523f4",
   "metadata": {},
   "outputs": [],
   "source": [
    "# Bar chart for heart rate distribution\n",
    "fig = px.bar(heart_rate_count, x=\"Heart Rate\", y=\"count\", title=\"Heart Rate Distribution\")\n",
    "fig.show()"
   ]
  },
  {
   "cell_type": "code",
   "execution_count": null,
   "id": "6f4ca3e8",
   "metadata": {},
   "outputs": [],
   "source": [
    "# Bar chart for top 5 daily steps\n",
    "fig = px.bar(daily_steps_count5, x='Daily Steps', y='count', title=\"Top 5 Daily Steps\")\n",
    "fig.show()"
   ]
  },
  {
   "cell_type": "code",
   "execution_count": null,
   "id": "7be378e3",
   "metadata": {},
   "outputs": [],
   "source": [
    "# Pie chart for sleep disorder distribution\n",
    "fig = px.pie(sleep_disorder_count, values='count', names='Sleep Disorder', title=\"Sleep Disorder Distribution\")\n",
    "fig.show()"
   ]
  },
  {
   "cell_type": "code",
   "execution_count": null,
   "id": "0afa5356",
   "metadata": {},
   "outputs": [],
   "source": [
    "# Saving the cleaned dataset to a CSV file\n",
    "df.to_csv(\"Cleaned_Data.csv\")"
   ]
  }
 ],
 "metadata": {
  "kernelspec": {
   "display_name": "Python 3 (ipykernel)",
   "language": "python",
   "name": "python3"
  },
  "language_info": {
   "codemirror_mode": {
    "name": "ipython",
    "version": 3
   },
   "file_extension": ".py",
   "mimetype": "text/x-python",
   "name": "python",
   "nbconvert_exporter": "python",
   "pygments_lexer": "ipython3",
   "version": "3.10.9"
  }
 },
 "nbformat": 4,
 "nbformat_minor": 5
}
